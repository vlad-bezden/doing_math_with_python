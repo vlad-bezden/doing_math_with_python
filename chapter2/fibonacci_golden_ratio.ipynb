{
 "cells": [
  {
   "cell_type": "markdown",
   "metadata": {},
   "source": [
    "### Relationship between Fibonacci sequence and Golden ratio"
   ]
  },
  {
   "cell_type": "code",
   "execution_count": 66,
   "metadata": {
    "collapsed": true
   },
   "outputs": [],
   "source": [
    "import matplotlib.pyplot as plt"
   ]
  },
  {
   "cell_type": "code",
   "execution_count": 67,
   "metadata": {},
   "outputs": [],
   "source": [
    "'''\n",
    "Fibonacci numbers generator.\n",
    "1, 1, 2, 3, 5, 8, 13, 21, 34, 55, 89, 144, ...\n",
    "'''\n",
    "def fibonacci():\n",
    "    a, b = 1, 1\n",
    "    while True:            # First iteration:\n",
    "        yield a            # yield 0 to start with and then\n",
    "        a, b = b, a + b    # a will now be 1, and b will also be 1, (0 + 1)"
   ]
  },
  {
   "cell_type": "code",
   "execution_count": 68,
   "metadata": {
    "scrolled": true
   },
   "outputs": [],
   "source": [
    "'''\n",
    "Finds average of numbers\n",
    "'''\n",
    "avg = lambda nums: sum(nums, 0.0) / len(nums)"
   ]
  },
  {
   "cell_type": "code",
   "execution_count": 69,
   "metadata": {
    "collapsed": true
   },
   "outputs": [],
   "source": [
    "def draw_graph(y):\n",
    "    plt.plot(y)\n",
    "    plt.xlabel('sequence')\n",
    "    plt.ylabel('fibonacci current/previous')\n",
    "    plt.title('Relationship between the Fibonacci Sequence and the Golden Ratio')\n"
   ]
  },
  {
   "cell_type": "code",
   "execution_count": 70,
   "metadata": {},
   "outputs": [],
   "source": [
    "'''\n",
    "Gets ratio between current and previous fibonacci numbers\n",
    "'''\n",
    "def get_sequence(n):\n",
    "    ratio = []\n",
    "    fib = fibonacci()\n",
    "    prev_fib = next(fib)\n",
    "    while n:\n",
    "        cur_fib = next(fib)\n",
    "        ratio.append(cur_fib/prev_fib)\n",
    "        prev_fib = cur_fib\n",
    "        n -= 1\n",
    "        \n",
    "    return ratio\n",
    "        "
   ]
  },
  {
   "cell_type": "code",
   "execution_count": 71,
   "metadata": {},
   "outputs": [
    {
     "data": {
      "image/png": "[encoded data removed]",
      "text/plain": [
       "<matplotlib.figure.Figure at 0xf7cd70>"
      ]
     },
     "metadata": {},
     "output_type": "display_data"
    },
    {
     "name": "stdout",
     "output_type": "stream",
     "text": [
      "An average ration between the consecutive Fibonacci numbers 1.6117\n"
     ]
    }
   ],
   "source": [
    "ratio = get_sequence(50)\n",
    "draw_graph(ratio)\n",
    "plt.show()\n",
    "print(f'An average ration between the consecutive Fibonacci numbers {avg(ratio):.5}')"
   ]
  }
 ],
 "metadata": {
  "kernelspec": {
   "display_name": "Python 3",
   "language": "python",
   "name": "python3"
  },
  "language_info": {
   "codemirror_mode": {
    "name": "ipython",
    "version": 3
   },
   "file_extension": ".py",
   "mimetype": "text/x-python",
   "name": "python",
   "nbconvert_exporter": "python",
   "pygments_lexer": "ipython3",
   "version": "3.6.1"
  }
 },
 "nbformat": 4,
 "nbformat_minor": 2
}
