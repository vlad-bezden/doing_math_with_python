{
 "cells": [
  {
   "cell_type": "markdown",
   "metadata": {},
   "source": [
    "### The relationship between gravitation force and distance between two bodies\n"
   ]
  },
  {
   "cell_type": "code",
   "execution_count": 1,
   "metadata": {
    "collapsed": true
   },
   "outputs": [],
   "source": [
    "import matplotlib.pyplot as plt"
   ]
  },
  {
   "cell_type": "code",
   "execution_count": 2,
   "metadata": {
    "collapsed": true
   },
   "outputs": [],
   "source": [
    "# Draw the graph\n",
    "def draw_graph(x, y):\n",
    "    plt.plot(x, y, marker='o')\n",
    "    \n",
    "    plt.xlabel('Distance in meters')\n",
    "    plt.ylabel('Gravitation force in newtons')\n",
    "    plt.title('Gravitation force and distance')\n",
    "    \n",
    "    plt.show()"
   ]
  },
  {
   "cell_type": "code",
   "execution_count": 3,
   "metadata": {
    "collapsed": true
   },
   "outputs": [],
   "source": [
    "def generate_F_r():\n",
    "    # Generate values for r\n",
    "    r = range(100, 1001, 50)\n",
    "    # Empty list to store teh calculated values of F\n",
    "    F = []\n",
    "    \n",
    "    # Constant, G\n",
    "    G = 6.674*(10**-11)\n",
    "    \n",
    "    # Two masses\n",
    "    m1 = 0.5\n",
    "    m2 = 1.5\n",
    "    \n",
    "    # Calculate force and add it to the list, F\n",
    "    for dist in r:\n",
    "        force = G*(m1*m2)/(dist**2)\n",
    "        F.append(force)\n",
    "        \n",
    "    # Call the draw_graph function\n",
    "    draw_graph(r, F)"
   ]
  },
  {
   "cell_type": "code",
   "execution_count": 4,
   "metadata": {},
   "outputs": [
    {
     "data": {
      "image/png": "[encoded data removed]",
      "text/plain": [
       "<matplotlib.figure.Figure at 0x77dbe90>"
      ]
     },
     "metadata": {},
     "output_type": "display_data"
    }
   ],
   "source": [
    "generate_F_r()"
   ]
  }
 ],
 "metadata": {
  "kernelspec": {
   "display_name": "Python 3",
   "language": "python",
   "name": "python3"
  },
  "language_info": {
   "codemirror_mode": {
    "name": "ipython",
    "version": 3
   },
   "file_extension": ".py",
   "mimetype": "text/x-python",
   "name": "python",
   "nbconvert_exporter": "python",
   "pygments_lexer": "ipython3",
   "version": "3.6.1"
  }
 },
 "nbformat": 4,
 "nbformat_minor": 2
}
