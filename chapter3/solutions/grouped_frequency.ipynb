{
 "cells": [
  {
   "cell_type": "markdown",
   "metadata": {},
   "source": [
    "# #5: Creating a Grouped Frequency Table"
   ]
  },
  {
   "cell_type": "markdown",
   "metadata": {},
   "source": [
    "Create a grouped frequency table from a list of numbers"
   ]
  },
  {
   "cell_type": "code",
   "execution_count": 1,
   "metadata": {
    "collapsed": true
   },
   "outputs": [],
   "source": [
    "def read_data(filename):\n",
    "    with open(filename) as f:\n",
    "        return [float(line) for line in f]"
   ]
  },
  {
   "cell_type": "code",
   "execution_count": 2,
   "metadata": {},
   "outputs": [],
   "source": [
    "def create_classes(numbers, n):\n",
    "    low = min(numbers)\n",
    "    high = max(numbers) \n",
    "    # width of each class\n",
    "    width = (high - low) / n\n",
    "    \n",
    "    return [(low + i * width, \n",
    "             high + 1 if i == n - 1 else low + (i + 1) * width)\n",
    "             for i in range(n)]"
   ]
  },
  {
   "cell_type": "code",
   "execution_count": null,
   "metadata": {
    "collapsed": true
   },
   "outputs": [],
   "source": [
    "def classify(numbers, classes):\n",
    "    # create list with the same size as classes\n",
    "    # and set initial value to 0\n",
    "    counter = [0] * len(classes)\n",
    "    for n in numbers:\n",
    "        for index, c in enumerate(classes):\n",
    "            if c[0] <= n and n < c[1]:\n",
    "                counter[index] += 1\n",
    "                break\n",
    "    return counter        "
   ]
  },
  {
   "cell_type": "code",
   "execution_count": null,
   "metadata": {},
   "outputs": [],
   "source": [
    "if __name__ == '__main__':\n",
    "    data = read_data('marks.txt')\n",
    "    while True:\n",
    "        num_classes = int(input('Enter the number of classes: '))\n",
    "        if num_classes <= 0:\n",
    "            break\n",
    "        classes = create_classes(data, num_classes)\n",
    "        count = classify(data, classes)\n",
    "        for c, cnt in zip(classes, count):\n",
    "            print(f'{c[0]:.2f} - {c[1]:.2f} \\t {cnt}')        "
   ]
  }
 ],
 "metadata": {
  "kernelspec": {
   "display_name": "Python 3",
   "language": "python",
   "name": "python3"
  },
  "language_info": {
   "codemirror_mode": {
    "name": "ipython",
    "version": 3
   },
   "file_extension": ".py",
   "mimetype": "text/x-python",
   "name": "python",
   "nbconvert_exporter": "python",
   "pygments_lexer": "ipython3",
   "version": "3.6.1"
  }
 },
 "nbformat": 4,
 "nbformat_minor": 2
}
