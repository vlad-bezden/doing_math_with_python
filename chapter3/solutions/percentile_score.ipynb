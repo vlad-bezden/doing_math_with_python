{
 "cells": [
  {
   "cell_type": "markdown",
   "metadata": {},
   "source": [
    "# #4: Finding the Percentile"
   ]
  },
  {
   "cell_type": "markdown",
   "metadata": {},
   "source": [
    "Calculate the number from a list of numbers which corresponds to a specific percentile.\n",
    "This implements the method described at [Calculating Percentiles](http://web.stanford.edu/class/archive/anthsci/anthsci192/anthsci192.1064/handouts/calculating%20percentiles.pdf)"
   ]
  },
  {
   "cell_type": "code",
   "execution_count": 1,
   "metadata": {
    "collapsed": true
   },
   "outputs": [],
   "source": [
    "def find_percentile_score(data, percentile):\n",
    "    \n",
    "    if percentile < 0 or percentile > 100:\n",
    "        return None\n",
    "    \n",
    "    data.sort()\n",
    "    \n",
    "    n = len(data)\n",
    "    min_percentile = 100 * (1 - 0.5) / n\n",
    "    max_percentile = 100 * (n - 0.5) / n\n",
    "\n",
    "    if percentile < min_percentile or percentile > max_percentile:\n",
    "        raise ValueError(f'percentile has to be between {min_percentile:.1f} and {max_percentile:.1f}')\n",
    "\n",
    "    i = ((n * percentile) / 100) + 0.5\n",
    "    if i.is_integer():\n",
    "        real_idx = int(i - 1)\n",
    "        return data[real_idx]\n",
    "    else:\n",
    "        k = int(i)\n",
    "        f = i - k\n",
    "        real_idx_1 = k - 1\n",
    "        real_idx_2 = k\n",
    "        return (1 - f) * data[real_idx_1] + f * data[real_idx_2] "
   ]
  },
  {
   "cell_type": "code",
   "execution_count": null,
   "metadata": {
    "collapsed": true
   },
   "outputs": [],
   "source": [
    "def read_data(filename):\n",
    "    with open(filename) as f:\n",
    "        return [float(line) for line in f]"
   ]
  },
  {
   "cell_type": "code",
   "execution_count": null,
   "metadata": {},
   "outputs": [
    {
     "name": "stdout",
     "output_type": "stream",
     "text": [
      "[5.0, 1.0, 9.0, 3.0, 14.0, 9.0, 7.0]\n"
     ]
    }
   ],
   "source": [
    "if __name__ == '__main__':\n",
    "    data = read_data('marks.txt')\n",
    "    print(data)\n",
    "    while True:\n",
    "        percentile = float(input('Enter the percentile score you want to calculate: '))\n",
    "        try:\n",
    "            percentile_score = find_percentile_score(data, percentile)\n",
    "            if percentile_score:\n",
    "                print(f'The score at {percentile} percentile: {percentile_score:.1f}')\n",
    "            else:\n",
    "                print(f'Could not find the score corresponding to {percentile} percentile')   \n",
    "        except ValueError as ve:\n",
    "            print(ve)"
   ]
  }
 ],
 "metadata": {
  "kernelspec": {
   "display_name": "Python 3",
   "language": "python",
   "name": "python3"
  },
  "language_info": {
   "codemirror_mode": {
    "name": "ipython",
    "version": 3
   },
   "file_extension": ".py",
   "mimetype": "text/x-python",
   "name": "python",
   "nbconvert_exporter": "python",
   "pygments_lexer": "ipython3",
   "version": "3.6.1"
  }
 },
 "nbformat": 4,
 "nbformat_minor": 2
}
