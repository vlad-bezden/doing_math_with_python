{
 "cells": [
  {
   "cell_type": "markdown",
   "metadata": {},
   "source": [
    "# #1: Better Correlation Coefficient - Finding Program"
   ]
  },
  {
   "cell_type": "markdown",
   "metadata": {},
   "source": [
    "The find_corr_x_y() function we wrote earlier to find the correlation coefficient between two sets of numbers assumes that the two sets of numbers are the same length. Improve the function so that it first checks the length of the lists. If they’re equal, only then should the function proceed with the remaining calculations; otherwise, it should print an error message that the correlation can’t be found."
   ]
  },
  {
   "cell_type": "code",
   "execution_count": 1,
   "metadata": {},
   "outputs": [],
   "source": [
    "def find_correlation(x, y):\n",
    "    n = len(x)\n",
    "    if n != len(y):\n",
    "        raise ValueError('Cannot calculate correlation because two sets are different length')\n",
    "    xy = [n_x * n_y for n_x, n_y in zip(x, y)]\n",
    "    sum_x_sq = sum(n_x**2 for n_x in x)\n",
    "    sum_y_sq = sum(y_x**2 for y_x in y)\n",
    "    numerator = n * sum(xy) - sum(x) * sum(y)\n",
    "    denominator_term1 = (n * sum(n_x**2 for n_x in x) - (sum(x))**2)\n",
    "    denominator_term2 = (n * sum(n_y**2 for n_y in y) - (sum(y))**2)\n",
    "    denominator = (denominator_term1 * denominator_term2)**0.5   \n",
    "    return numerator / denominator"
   ]
  },
  {
   "cell_type": "code",
   "execution_count": 2,
   "metadata": {},
   "outputs": [
    {
     "name": "stderr",
     "output_type": "stream",
     "text": [
      "..\n",
      "----------------------------------------------------------------------\n",
      "Ran 2 tests in 0.004s\n",
      "\n",
      "OK\n"
     ]
    }
   ],
   "source": [
    "import unittest\n",
    "\n",
    "class CorrelationTests(unittest.TestCase):\n",
    "    \n",
    "    def test_sets_are_the_same_length(self):\n",
    "        high_school_grades = [90, 92, 95, 96, 87, 87, 90, 95, 98, 96]\n",
    "        collage_admission_test_scores = [85, 87, 86, 97, 96, 88, 89, 98, 98, 87]\n",
    "        correlation = find_correlation(high_school_grades, collage_admission_test_scores)\n",
    "        self.assertEqual(round(correlation, 4), 0.3184)\n",
    "        \n",
    "    def test_sets_are_different_length(self):\n",
    "        high_school_grades = [90, 92]\n",
    "        collage_admission_test_scores = [85, 87, 86]\n",
    "        with self.assertRaises(ValueError):\n",
    "            find_correlation(high_school_grades, collage_admission_test_scores)\n",
    "        \n",
    "        \n",
    "if __name__ == '__main__':\n",
    "    unittest.main(argv=['first-arg-is-ignored'], exit=False)"
   ]
  }
 ],
 "metadata": {
  "kernelspec": {
   "display_name": "Python 3",
   "language": "python",
   "name": "python3"
  },
  "language_info": {
   "codemirror_mode": {
    "name": "ipython",
    "version": 3
   },
   "file_extension": ".py",
   "mimetype": "text/x-python",
   "name": "python",
   "nbconvert_exporter": "python",
   "pygments_lexer": "ipython3",
   "version": "3.6.1"
  }
 },
 "nbformat": 4,
 "nbformat_minor": 2
}
