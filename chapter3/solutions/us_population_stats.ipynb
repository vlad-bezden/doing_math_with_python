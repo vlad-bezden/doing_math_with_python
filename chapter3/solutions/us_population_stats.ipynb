{
 "cells": [
  {
   "cell_type": "markdown",
   "metadata": {},
   "source": [
    "# #3: Experiment with Other CSV Data"
   ]
  },
  {
   "cell_type": "markdown",
   "metadata": {},
   "source": [
    "Read the US population data from a CSV file, calculate the growth in population\n",
    "in consecutive years and compute various statistical measures.\n",
    "Also creates two graphs - one showing the total population over the years and other\n",
    "showing the change between consecutive years."
   ]
  },
  {
   "cell_type": "code",
   "execution_count": 1,
   "metadata": {
    "collapsed": true
   },
   "outputs": [],
   "source": [
    "'''\n",
    "finding mean (average) \n",
    "'''\n",
    "mean = lambda l: sum(l) / len(l)"
   ]
  },
  {
   "cell_type": "code",
   "execution_count": 2,
   "metadata": {
    "collapsed": true
   },
   "outputs": [],
   "source": [
    "'''\n",
    "To find the median, we sort the numbers in ascending order. \n",
    "If the length of the list of numbers is odd, \n",
    "the number in the middle of the list is the median. \n",
    "If the length of the list of numbers is even, \n",
    "we get the median by taking the mean of the two middle numbers.\n",
    "'''\n",
    "def median(data):\n",
    "    \"\"\"Find the median (average) from list of numbers.\"\"\"\n",
    "    \n",
    "    numbers = sorted(data)\n",
    "    length = len(numbers)\n",
    "    mid = length // 2\n",
    "    return (numbers[mid] \n",
    "            if length % 2 == 1 \n",
    "            else mean(numbers[mid - 1 : mid + 1]))"
   ]
  },
  {
   "cell_type": "code",
   "execution_count": 3,
   "metadata": {
    "collapsed": true
   },
   "outputs": [],
   "source": [
    "'''\n",
    "The variance measures how far each number in the set is from the mean. \n",
    "Variance is calculated by taking the differences between each number\n",
    "in the set and the mean, squaring the differences \n",
    "(to make them positive) and dividing the sum of the squares \n",
    "by the number of values in the set.\n",
    "'''\n",
    "def variance(numbers):\n",
    "    \"\"\"Find the variance of a list of numbers.\"\"\"\n",
    "    \n",
    "    # find the mean\n",
    "    avg = mean(numbers)\n",
    "    # find the difference of each number from the mean\n",
    "    squared_diff = ((n - avg)**2 for n in numbers)\n",
    "    return sum(squared_diff)/len(numbers)"
   ]
  },
  {
   "cell_type": "code",
   "execution_count": 4,
   "metadata": {},
   "outputs": [],
   "source": [
    "import csv\n",
    "\n",
    "def get_data_from_csv(filename):\n",
    "    \"\"\"Reads year and population from CSV file.\"\"\"\n",
    "    \n",
    "    data = []\n",
    "\n",
    "    with open(filename) as f:\n",
    "        reader = csv.reader(f)\n",
    "        next(reader)        \n",
    "        for row in reader:\n",
    "            # extract only year from date\n",
    "            data.append((int(row[0][0:4]), int(float(row[1]))))\n",
    "                        \n",
    "    # most recent year is a first record\n",
    "    # so we have to sort and make\n",
    "    # first record lowest year\n",
    "    data.sort()\n",
    "    return data"
   ]
  },
  {
   "cell_type": "code",
   "execution_count": 5,
   "metadata": {},
   "outputs": [],
   "source": [
    "import matplotlib.pyplot as plt\n",
    "\n",
    "def plot_population(population, years):\n",
    "    \n",
    "    plt.plot(years, population)\n",
    "    plt.xlabel('year')\n",
    "    plt.ylabel('population')\n",
    "    plt.title('Total population in US')"
   ]
  },
  {
   "cell_type": "code",
   "execution_count": 6,
   "metadata": {
    "collapsed": true
   },
   "outputs": [],
   "source": [
    "import matplotlib.pyplot as plt\n",
    "\n",
    "def plot_population_diff(growth, years):\n",
    "    \n",
    "    plt.plot(years, growth)\n",
    "    plt.xlabel('year')\n",
    "    plt.ylabel('population growth')\n",
    "    plt.title('Population Growth in consecutive years')"
   ]
  },
  {
   "cell_type": "code",
   "execution_count": 7,
   "metadata": {
    "collapsed": true
   },
   "outputs": [],
   "source": [
    "def calculate_stats(populations):\n",
    "    \"\"\"Calculate mean, median, variance and standard deviation of the difference\n",
    "    in population over the years.\"\"\"\n",
    "    \n",
    "    # find the growth in population in consecutive years\n",
    "    growth = []\n",
    "    for i in range(0, len(populations) - 1):\n",
    "        growth.append(populations[i + 1] - populations[i])\n",
    "    \n",
    "    return growth    "
   ]
  },
  {
   "cell_type": "code",
   "execution_count": 8,
   "metadata": {},
   "outputs": [
    {
     "data": {
      "image/png": "[encoded data removed]",
      "text/plain": [
       "<matplotlib.figure.Figure at 0x7eac090>"
      ]
     },
     "metadata": {},
     "output_type": "display_data"
    }
   ],
   "source": [
    "if __name__ == '__main__':\n",
    "    data = get_data_from_csv('USA_SP_POP_TOTL.csv')\n",
    "    years = [d[0] for d in data]\n",
    "    populations = [d[1] for d in data]\n",
    "    plot_population(populations, years)\n",
    "    plt.show()"
   ]
  },
  {
   "cell_type": "code",
   "execution_count": 9,
   "metadata": {},
   "outputs": [
    {
     "ename": "NameError",
     "evalue": "name 'population' is not defined",
     "output_type": "error",
     "traceback": [
      "\u001b[1;31m---------------------------------------------------------------------------\u001b[0m",
      "\u001b[1;31mNameError\u001b[0m                                 Traceback (most recent call last)",
      "\u001b[1;32m<ipython-input-9-d931c691ffa7>\u001b[0m in \u001b[0;36m<module>\u001b[1;34m()\u001b[0m\n\u001b[1;32m----> 1\u001b[1;33m \u001b[0mgrowth\u001b[0m \u001b[1;33m=\u001b[0m \u001b[0mcalculate_stats\u001b[0m\u001b[1;33m(\u001b[0m\u001b[0mpopulations\u001b[0m\u001b[1;33m)\u001b[0m\u001b[1;33m\u001b[0m\u001b[0m\n\u001b[0m\u001b[0;32m      2\u001b[0m \u001b[0mprint\u001b[0m\u001b[1;33m(\u001b[0m\u001b[1;34mf'Mean growth: {mean(growth):,.2f}'\u001b[0m\u001b[1;33m)\u001b[0m\u001b[1;33m\u001b[0m\u001b[0m\n\u001b[0;32m      3\u001b[0m \u001b[0mprint\u001b[0m\u001b[1;33m(\u001b[0m\u001b[1;34mf'Median growth: {median(growth):,.2f}'\u001b[0m\u001b[1;33m)\u001b[0m\u001b[1;33m\u001b[0m\u001b[0m\n\u001b[0;32m      4\u001b[0m \u001b[0mprint\u001b[0m\u001b[1;33m(\u001b[0m\u001b[1;34mf'Varience growth: {variance(growth):,.2f}'\u001b[0m\u001b[1;33m)\u001b[0m\u001b[1;33m\u001b[0m\u001b[0m\n\u001b[0;32m      5\u001b[0m \u001b[0mprint\u001b[0m\u001b[1;33m(\u001b[0m\u001b[1;34mf'Stdv growth: {variance(growth)**0.5:,.2f}'\u001b[0m\u001b[1;33m)\u001b[0m\u001b[1;33m\u001b[0m\u001b[0m\n",
      "\u001b[1;32m<ipython-input-7-13df5fb9cb2d>\u001b[0m in \u001b[0;36mcalculate_stats\u001b[1;34m(populations)\u001b[0m\n\u001b[0;32m      6\u001b[0m     \u001b[0mgrowth\u001b[0m \u001b[1;33m=\u001b[0m \u001b[1;33m[\u001b[0m\u001b[1;33m]\u001b[0m\u001b[1;33m\u001b[0m\u001b[0m\n\u001b[0;32m      7\u001b[0m     \u001b[1;32mfor\u001b[0m \u001b[0mi\u001b[0m \u001b[1;32min\u001b[0m \u001b[0mrange\u001b[0m\u001b[1;33m(\u001b[0m\u001b[1;36m0\u001b[0m\u001b[1;33m,\u001b[0m \u001b[0mlen\u001b[0m\u001b[1;33m(\u001b[0m\u001b[0mpopulations\u001b[0m\u001b[1;33m)\u001b[0m \u001b[1;33m-\u001b[0m \u001b[1;36m1\u001b[0m\u001b[1;33m)\u001b[0m\u001b[1;33m:\u001b[0m\u001b[1;33m\u001b[0m\u001b[0m\n\u001b[1;32m----> 8\u001b[1;33m         \u001b[0mgrowth\u001b[0m\u001b[1;33m.\u001b[0m\u001b[0mappend\u001b[0m\u001b[1;33m(\u001b[0m\u001b[0mpopulations\u001b[0m\u001b[1;33m[\u001b[0m\u001b[0mi\u001b[0m \u001b[1;33m+\u001b[0m \u001b[1;36m1\u001b[0m\u001b[1;33m]\u001b[0m \u001b[1;33m-\u001b[0m \u001b[0mpopulation\u001b[0m\u001b[1;33m[\u001b[0m\u001b[0mi\u001b[0m\u001b[1;33m]\u001b[0m\u001b[1;33m)\u001b[0m\u001b[1;33m\u001b[0m\u001b[0m\n\u001b[0m\u001b[0;32m      9\u001b[0m \u001b[1;33m\u001b[0m\u001b[0m\n\u001b[0;32m     10\u001b[0m     \u001b[1;32mreturn\u001b[0m \u001b[0mgrowth\u001b[0m\u001b[1;33m\u001b[0m\u001b[0m\n",
      "\u001b[1;31mNameError\u001b[0m: name 'population' is not defined"
     ]
    }
   ],
   "source": [
    "growth = calculate_stats(populations)\n",
    "print(f'Mean growth: {mean(growth):,.2f}')\n",
    "print(f'Median growth: {median(growth):,.2f}')\n",
    "print(f'Varience growth: {variance(growth):,.2f}')\n",
    "print(f'Stdv growth: {variance(growth)**0.5:,.2f}')"
   ]
  },
  {
   "cell_type": "code",
   "execution_count": null,
   "metadata": {},
   "outputs": [],
   "source": [
    "plot_population_diff(growth, years[1:])\n",
    "plt.show()"
   ]
  }
 ],
 "metadata": {
  "kernelspec": {
   "display_name": "Python 3",
   "language": "python",
   "name": "python3"
  },
  "language_info": {
   "codemirror_mode": {
    "name": "ipython",
    "version": 3
   },
   "file_extension": ".py",
   "mimetype": "text/x-python",
   "name": "python",
   "nbconvert_exporter": "python",
   "pygments_lexer": "ipython3",
   "version": "3.6.1"
  }
 },
 "nbformat": 4,
 "nbformat_minor": 2
}
