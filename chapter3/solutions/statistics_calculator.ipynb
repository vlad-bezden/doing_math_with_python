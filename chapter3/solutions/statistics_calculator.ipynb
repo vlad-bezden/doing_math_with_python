{
 "cells": [
  {
   "cell_type": "markdown",
   "metadata": {},
   "source": [
    "# #2: Statistics Calculator"
   ]
  },
  {
   "cell_type": "markdown",
   "metadata": {},
   "source": [
    "Implement a statistics calculator that takes a list of numbers in the file mydata.txt and then calculates and prints their mean, median, mode, variance, and standard deviation using the functions we wrote earlier in this chapter."
   ]
  },
  {
   "cell_type": "code",
   "execution_count": 1,
   "metadata": {
    "collapsed": true
   },
   "outputs": [],
   "source": [
    "'''\n",
    "finding mean (average) \n",
    "'''\n",
    "mean = lambda l: sum(l) / len(l)"
   ]
  },
  {
   "cell_type": "code",
   "execution_count": 2,
   "metadata": {
    "collapsed": true
   },
   "outputs": [],
   "source": [
    "'''\n",
    "To find the median, we sort the numbers in ascending order. \n",
    "If the length of the list of numbers is odd, \n",
    "the number in the middle of the list is the median. \n",
    "If the length of the list of numbers is even, \n",
    "we get the median by taking the mean of the two middle numbers.\n",
    "'''\n",
    "def median(numbers):\n",
    "    \"\"\"Find the median (average) from list of numbers.\"\"\"\n",
    "    numbers.sort()\n",
    "    length = len(numbers)\n",
    "    mid = length // 2\n",
    "    return (numbers[mid] \n",
    "            if length % 2 == 1 \n",
    "            else mean(numbers[mid - 1 : mid + 1]))"
   ]
  },
  {
   "cell_type": "code",
   "execution_count": 3,
   "metadata": {
    "collapsed": true
   },
   "outputs": [],
   "source": [
    "'''\n",
    "finding the most common elements (mode)\n",
    "'''\n",
    "from collections import Counter\n",
    "\n",
    "mode = lambda n: Counter(n).most_common()[0][0]"
   ]
  },
  {
   "cell_type": "code",
   "execution_count": 4,
   "metadata": {
    "collapsed": true
   },
   "outputs": [],
   "source": [
    "'''\n",
    "The variance measures how far each number in the set is from the mean. \n",
    "Variance is calculated by taking the differences between each number\n",
    "in the set and the mean, squaring the differences \n",
    "(to make them positive) and dividing the sum of the squares \n",
    "by the number of values in the set.\n",
    "'''\n",
    "def variance(numbers):\n",
    "    \"\"\"Find the variance of a list of numbers.\"\"\"\n",
    "    # find the mean\n",
    "    avg = mean(numbers)\n",
    "    # find the difference of each number from the mean\n",
    "    squared_diff = ((n - avg)**2 for n in numbers)\n",
    "    return sum(squared_diff)/len(numbers)"
   ]
  },
  {
   "cell_type": "code",
   "execution_count": 5,
   "metadata": {},
   "outputs": [],
   "source": [
    "import unittest\n",
    "\n",
    "class StatisticsCalculatorTests(unittest.TestCase):\n",
    "    \n",
    "    @classmethod\n",
    "    def setUpClass(cls):\n",
    "        with open('mydata.txt') as f:            \n",
    "            cls.data = [float(line) for line in f]\n",
    "\n",
    "    def test_mean(self):        \n",
    "        result = mean(self.data)\n",
    "        print(f'Mean: {result:.5f}')\n",
    "        self.assertEqual(result, 477.75)\n",
    "        \n",
    "    def test_median(self):\n",
    "        result = median(self.data)\n",
    "        print(f'Median: {result:.5f}')\n",
    "        self.assertEqual(result, 500)\n",
    "        \n",
    "    def test_mode(self):\n",
    "        result = mode(self.data)\n",
    "        print(f'Mode: {result:.5f}')\n",
    "        self.assertEqual(result, 100)\n",
    "        \n",
    "    def test_variance(self):\n",
    "        var = variance(self.data)\n",
    "        print(f'Variance {var:.5f}')\n",
    "        self.assertEqual(round(var, 2), 141047.35)\n",
    "        \n",
    "    def test_standard_deviation(self):\n",
    "        std = variance(self.data)**0.5\n",
    "        print(f'Standard Deviation {std:.5f}')\n",
    "        self.assertEqual(round(std, 2), 375.56)"
   ]
  },
  {
   "cell_type": "code",
   "execution_count": 6,
   "metadata": {},
   "outputs": [
    {
     "name": "stderr",
     "output_type": "stream",
     "text": [
      "....."
     ]
    },
    {
     "name": "stdout",
     "output_type": "stream",
     "text": [
      "Mean: 477.75000\n",
      "Median: 500.00000\n",
      "Mode: 100.00000\n",
      "Standard Deviation 375.56272\n",
      "Variance 141047.35417\n"
     ]
    },
    {
     "name": "stderr",
     "output_type": "stream",
     "text": [
      "\n",
      "----------------------------------------------------------------------\n",
      "Ran 5 tests in 0.010s\n",
      "\n",
      "OK\n"
     ]
    }
   ],
   "source": [
    "if __name__ == '__main__':\n",
    "    unittest.main(argv=['first-arg-is-ignored'], exit=False)"
   ]
  }
 ],
 "metadata": {
  "kernelspec": {
   "display_name": "Python 3",
   "language": "python",
   "name": "python3"
  },
  "language_info": {
   "codemirror_mode": {
    "name": "ipython",
    "version": 3
   },
   "file_extension": ".py",
   "mimetype": "text/x-python",
   "name": "python",
   "nbconvert_exporter": "python",
   "pygments_lexer": "ipython3",
   "version": "3.6.1"
  }
 },
 "nbformat": 4,
 "nbformat_minor": 2
}
