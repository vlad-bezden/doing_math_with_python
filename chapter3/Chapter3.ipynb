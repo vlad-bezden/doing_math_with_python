{
 "cells": [
  {
   "cell_type": "markdown",
   "metadata": {},
   "source": [
    "# Distributing Data with Statistics"
   ]
  },
  {
   "cell_type": "code",
   "execution_count": 77,
   "metadata": {},
   "outputs": [],
   "source": [
    "# finding mean (average) \n",
    "mean = lambda l: sum(l) / len(l)"
   ]
  },
  {
   "cell_type": "code",
   "execution_count": 79,
   "metadata": {
    "collapsed": true
   },
   "outputs": [],
   "source": [
    "assert mean([i for i in range(10)]) == 4.5, 'Invalid mean'"
   ]
  },
  {
   "cell_type": "code",
   "execution_count": 80,
   "metadata": {},
   "outputs": [],
   "source": [
    "# To find the median, we sort the numbers in ascending order. \n",
    "# If the length of the list of numbers is odd, \n",
    "# the number in the middle of the list is the median. \n",
    "# If the length of the list of numbers is even, \n",
    "# we get the median by taking the mean of the two middle numbers.\n",
    "def median(numbers):\n",
    "    numbers.sort()\n",
    "    length = len(numbers)\n",
    "    mid = length // 2\n",
    "    return (numbers[mid] \n",
    "            if length % 2 == 1 \n",
    "            else mean(numbers[mid - 1 : mid + 1]))"
   ]
  },
  {
   "cell_type": "code",
   "execution_count": 83,
   "metadata": {
    "collapsed": true
   },
   "outputs": [],
   "source": [
    "data = [4, 1, 3, 6, 10]\n",
    "\n",
    "assert median(data) == 4, \"Failed odd number of mean test\"\n",
    "\n",
    "data.append(15)\n",
    "assert median(data) == 5, \"Failed even number of mean test\"\n",
    "\n",
    "data = [4, 1]\n",
    "assert median(data) == 2.5\n",
    "\n",
    "data = [5]\n",
    "assert median(data) == 5"
   ]
  },
  {
   "cell_type": "code",
   "execution_count": 101,
   "metadata": {
    "collapsed": true
   },
   "outputs": [],
   "source": [
    "# finding the most common elements (mode)\n",
    "from collections import Counter\n",
    "\n",
    "mode = lambda n: Counter(n).most_common()[0][0]"
   ]
  },
  {
   "cell_type": "code",
   "execution_count": 111,
   "metadata": {
    "collapsed": true
   },
   "outputs": [],
   "source": [
    "data = [7, 8, 9, 2, 10, 9, 9, 9, 9, 4, 5, 6, 1, 5, 6, 7, 8, 6, 1, 10]\n",
    "assert mode(data) == 9"
   ]
  },
  {
   "cell_type": "code",
   "execution_count": 120,
   "metadata": {
    "collapsed": true
   },
   "outputs": [],
   "source": [
    "'''\n",
    "Calculating the mode when the list of numbers may\n",
    "have multiple modes\n",
    "'''\n",
    "from collections import Counter\n",
    "\n",
    "def multiple_mode(data):\n",
    "    counter = Counter(data).most_common()\n",
    "    max_num = counter[0][1]\n",
    "    modes = []\n",
    "    for num in counter:\n",
    "        if num[1] == max_num:\n",
    "            modes.append(num[0])\n",
    "        else:\n",
    "            break\n",
    "    return modes\n",
    "        "
   ]
  },
  {
   "cell_type": "code",
   "execution_count": 123,
   "metadata": {
    "collapsed": true
   },
   "outputs": [],
   "source": [
    "data = [5, 5, 5, 4, 4, 4, 9, 1, 3]\n",
    "assert multiple_mode(data) == [5, 4]"
   ]
  },
  {
   "cell_type": "code",
   "execution_count": 125,
   "metadata": {
    "collapsed": true
   },
   "outputs": [],
   "source": [
    "'''\n",
    "Frequency table for a list of numbers\n",
    "Sorted by the numbers\n",
    "'''\n",
    "from collections import Counter\n",
    "\n",
    "def frequency_table(numbers):\n",
    "    table = Counter(numbers)\n",
    "    numbers_freq = table.most_common()\n",
    "    numbers_freq.sort()\n",
    "    return numbers_freq"
   ]
  },
  {
   "cell_type": "code",
   "execution_count": 131,
   "metadata": {},
   "outputs": [
    {
     "name": "stdout",
     "output_type": "stream",
     "text": [
      "Number\tFrequency\n",
      "     1\t        2\n",
      "     2\t        1\n",
      "     4\t        1\n",
      "     5\t        2\n",
      "     6\t        3\n",
      "     7\t        2\n",
      "     8\t        2\n",
      "     9\t        5\n",
      "    10\t        2\n"
     ]
    }
   ],
   "source": [
    "scores = [7, 8, 9, 2, 10, 9, 9, 9, 9, 4, 5, 6, 1, 5, 6, 7, 8, 6, 1, 10]\n",
    "\n",
    "numbers_freq = frequency_table(scores)\n",
    "\n",
    "print('Number\\tFrequency')\n",
    "for number in numbers_freq:\n",
    "    print(f'{number[0]:6}\\t{number[1]:9}')"
   ]
  },
  {
   "cell_type": "code",
   "execution_count": 132,
   "metadata": {
    "collapsed": true
   },
   "outputs": [],
   "source": [
    "'''\n",
    "Find the variance of a list of numbers.\n",
    "\n",
    "The variance measures how far each number in the set is from the mean. \n",
    "Variance is calculated by taking the differences between each number\n",
    "in the set and the mean, squaring the differences \n",
    "(to make them positive) and dividing the sum of the squares \n",
    "by the number of values in the set.\n",
    "\n",
    "'''\n",
    "\n",
    "def calculate_variance(numbers):\n",
    "    # find the mean\n",
    "    avg = mean(numbers)\n",
    "    # find the difference of each number from the mean\n",
    "    squared_diff = ((n - avg)**2 for n in numbers)\n",
    "    return sum(squared_diff)/len(numbers)"
   ]
  },
  {
   "cell_type": "code",
   "execution_count": 143,
   "metadata": {},
   "outputs": [
    {
     "name": "stdout",
     "output_type": "stream",
     "text": [
      "The variance of the list of numbers is 141047.3542\n",
      "The standard deviation of the list of numbers is 375.5627\n"
     ]
    }
   ],
   "source": [
    "donations = [100, 60, 70, 900, 100, 200, 500, 500, 503, 600, 1000, 1200]\n",
    "variance = calculate_variance(donations)\n",
    "std = variance**0.5\n",
    "print(f'The variance of the list of numbers is {variance:.10}')\n",
    "print(f'The standard deviation of the list of numbers is {std:.7}')"
   ]
  },
  {
   "cell_type": "code",
   "execution_count": 152,
   "metadata": {
    "collapsed": true
   },
   "outputs": [],
   "source": [
    "'''\n",
    "Find correlation between two sets of data\n",
    "'''\n",
    "\n",
    "def find_correlation(x, y):\n",
    "    n = len(x)\n",
    "    xy = [n_x * n_y for n_x, n_y in zip(x, y)]\n",
    "    sum_x_sq = sum(n_x**2 for n_x in x)\n",
    "    sum_y_sq = sum(y_x**2 for y_x in y)\n",
    "    numerator = n * sum(xy) - sum(x) * sum(y)\n",
    "    denominator_term1 = (n * sum(n_x**2 for n_x in x) - (sum(x))**2)\n",
    "    denominator_term2 = (n * sum(n_y**2 for n_y in y) - (sum(y))**2)\n",
    "    denominator = (denominator_term1 * denominator_term2)**0.5   \n",
    "    return numerator / denominator\n",
    "    "
   ]
  },
  {
   "cell_type": "code",
   "execution_count": 156,
   "metadata": {},
   "outputs": [
    {
     "name": "stdout",
     "output_type": "stream",
     "text": [
      "Hight scool grades and collage admission test scores correlation 0.32\n"
     ]
    }
   ],
   "source": [
    "high_school_grades = [90, 92, 95, 96, 87, 87, 90, 95, 98, 96]\n",
    "collage_admission_test_scores = [85, 87, 86, 97, 96, 88, 89, 98, 98, 87]\n",
    "correlation = find_correlation(high_school_grades, collage_admission_test_scores)\n",
    "print(f'Hight scool grades and collage admission test scores correlation {correlation:.2}')"
   ]
  },
  {
   "cell_type": "code",
   "execution_count": 157,
   "metadata": {},
   "outputs": [
    {
     "name": "stdout",
     "output_type": "stream",
     "text": [
      "Hight scool math grades and collage admission test scores correlation 1.0\n"
     ]
    }
   ],
   "source": [
    "high_school_math_grades = [83, 85, 84, 96, 94, 86, 87, 97, 97, 85]\n",
    "collage_admission_test_scores = [85, 87, 86, 97, 96, 88, 89, 98, 98, 87]\n",
    "correlation = find_correlation(high_school_math_grades, collage_admission_test_scores)\n",
    "print(f'Hight scool math grades and collage admission test scores correlation {correlation:.2}')"
   ]
  }
 ],
 "metadata": {
  "kernelspec": {
   "display_name": "Python 3",
   "language": "python",
   "name": "python3"
  },
  "language_info": {
   "codemirror_mode": {
    "name": "ipython",
    "version": 3
   },
   "file_extension": ".py",
   "mimetype": "text/x-python",
   "name": "python",
   "nbconvert_exporter": "python",
   "pygments_lexer": "ipython3",
   "version": "3.6.1"
  }
 },
 "nbformat": 4,
 "nbformat_minor": 2
}
