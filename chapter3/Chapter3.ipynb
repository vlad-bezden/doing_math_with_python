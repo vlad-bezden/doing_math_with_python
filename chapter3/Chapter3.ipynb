{
 "cells": [
  {
   "cell_type": "markdown",
   "metadata": {},
   "source": [
    "# Distributing Data with Statistics"
   ]
  },
  {
   "cell_type": "code",
   "execution_count": 77,
   "metadata": {
    "collapsed": true
   },
   "outputs": [],
   "source": [
    "# finding mean (average) \n",
    "mean = lambda l: sum(l) / len(l)"
   ]
  },
  {
   "cell_type": "code",
   "execution_count": 79,
   "metadata": {},
   "outputs": [],
   "source": [
    "assert mean([i for i in range(10)]) == 4.5, 'Invalid mean'"
   ]
  },
  {
   "cell_type": "code",
   "execution_count": 80,
   "metadata": {
    "collapsed": true
   },
   "outputs": [],
   "source": [
    "# To find the median, we sort the numbers in ascending order. \n",
    "# If the length of the list of numbers is odd, \n",
    "# the number in the middle of the list is the median. \n",
    "# If the length of the list of numbers is even, \n",
    "# we get the median by taking the mean of the two middle numbers.\n",
    "def median(numbers):\n",
    "    numbers.sort()\n",
    "    length = len(numbers)\n",
    "    mid = length // 2\n",
    "    return (numbers[mid] \n",
    "            if length % 2 == 1 \n",
    "            else mean(numbers[mid - 1 : mid + 1]))"
   ]
  },
  {
   "cell_type": "code",
   "execution_count": 83,
   "metadata": {},
   "outputs": [],
   "source": [
    "data = [4, 1, 3, 6, 10]\n",
    "\n",
    "assert median(data) == 4, \"Failed odd number of mean test\"\n",
    "\n",
    "data.append(15)\n",
    "assert median(data) == 5, \"Failed even number of mean test\"\n",
    "\n",
    "data = [4, 1]\n",
    "assert median(data) == 2.5\n",
    "\n",
    "data = [5]\n",
    "assert median(data) == 5"
   ]
  },
  {
   "cell_type": "code",
   "execution_count": 101,
   "metadata": {},
   "outputs": [],
   "source": [
    "# finding the most common elements (mode)\n",
    "from collections import Counter\n",
    "\n",
    "mode = lambda n: Counter(n).most_common()[0][0]"
   ]
  },
  {
   "cell_type": "code",
   "execution_count": 111,
   "metadata": {},
   "outputs": [],
   "source": [
    "data = [7, 8, 9, 2, 10, 9, 9, 9, 9, 4, 5, 6, 1, 5, 6, 7, 8, 6, 1, 10]\n",
    "assert mode(data) == 9"
   ]
  },
  {
   "cell_type": "code",
   "execution_count": 120,
   "metadata": {
    "collapsed": true
   },
   "outputs": [],
   "source": [
    "'''\n",
    "Calculating the mode when the list of numbers may\n",
    "have multiple modes\n",
    "'''\n",
    "from collections import Counter\n",
    "\n",
    "def multiple_mode(data):\n",
    "    counter = Counter(data).most_common()\n",
    "    max_num = counter[0][1]\n",
    "    modes = []\n",
    "    for num in counter:\n",
    "        if num[1] == max_num:\n",
    "            modes.append(num[0])\n",
    "        else:\n",
    "            break\n",
    "    return modes\n",
    "        "
   ]
  },
  {
   "cell_type": "code",
   "execution_count": 123,
   "metadata": {},
   "outputs": [],
   "source": [
    "data = [5, 5, 5, 4, 4, 4, 9, 1, 3]\n",
    "assert multiple_mode(data) == [5, 4]"
   ]
  }
 ],
 "metadata": {
  "kernelspec": {
   "display_name": "Python 3",
   "language": "python",
   "name": "python3"
  },
  "language_info": {
   "codemirror_mode": {
    "name": "ipython",
    "version": 3
   },
   "file_extension": ".py",
   "mimetype": "text/x-python",
   "name": "python",
   "nbconvert_exporter": "python",
   "pygments_lexer": "ipython3",
   "version": "3.6.1"
  }
 },
 "nbformat": 4,
 "nbformat_minor": 2
}
