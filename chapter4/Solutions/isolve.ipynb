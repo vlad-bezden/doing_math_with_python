{
 "cells": [
  {
   "cell_type": "markdown",
   "metadata": {},
   "source": [
    "# #4: Solving Single-Variable Inequalities"
   ]
  },
  {
   "cell_type": "code",
   "execution_count": 1,
   "metadata": {},
   "outputs": [
    {
     "name": "stdout",
     "output_type": "stream",
     "text": [
      "Enter the inequality to solve: -x**2 + 4 < 0\n",
      "[(-oo, -2), (2, oo)]\n"
     ]
    }
   ],
   "source": [
    "from sympy import Symbol, sympify, SympifyError\n",
    "from sympy import solve_poly_inequality, solve_rational_inequalities\n",
    "from sympy import solve_univariate_inequality, Poly\n",
    "from sympy.core.relational import Relational, Equality\n",
    "\n",
    "\n",
    "def isolve(ineq_obj):\n",
    "    \"\"\"\n",
    "    Takes any inequality, solve it and returns solution.\n",
    "    \n",
    "    :param ineq_obj: inequality expression\n",
    "    \"\"\"\n",
    "    x = Symbol('x')\n",
    "    \n",
    "    expr = ineq_obj.lhs\n",
    "    rel = ineq_obj.rel_op\n",
    "    \n",
    "    if expr.is_polynomial():\n",
    "        p = Poly(expr, x)\n",
    "        return solve_poly_inequality(p, rel)\n",
    "    elif expr.is_rational_function():\n",
    "        numer, denom = expr.as_numer_denom()\n",
    "        numer = Poly(numer)\n",
    "        denom = Poly(denom)\n",
    "        return solve_rational_inequalities([[((numer, denom), rel)]])\n",
    "    else:\n",
    "        return solve_univariate_inequality(ineq_obj, x, relational=False)\n",
    "    \n",
    "    \n",
    "if __name__ == '__main__':\n",
    "    try:\n",
    "        ineq = input('Enter the inequality to solve: ')\n",
    "        ineq_obj = sympify(ineq)\n",
    "    except SympifyError:\n",
    "        print('Invalid inequality')\n",
    "    else:\n",
    "        # check if the input expression is an inequality\n",
    "        if isinstance(ineq_obj, Relational) and not isinstance(ineq_obj, Equality):\n",
    "            print(isolve(ineq_obj))\n",
    "        else:\n",
    "            print('Invalid ineqality')\n",
    "    "
   ]
  }
 ],
 "metadata": {
  "kernelspec": {
   "display_name": "Python 3",
   "language": "python",
   "name": "python3"
  },
  "language_info": {
   "codemirror_mode": {
    "name": "ipython",
    "version": 3
   },
   "file_extension": ".py",
   "mimetype": "text/x-python",
   "name": "python",
   "nbconvert_exporter": "python",
   "pygments_lexer": "ipython3",
   "version": "3.6.1"
  }
 },
 "nbformat": 4,
 "nbformat_minor": 2
}
