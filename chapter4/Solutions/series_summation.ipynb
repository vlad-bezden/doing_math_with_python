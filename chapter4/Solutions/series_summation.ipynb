{
 "cells": [
  {
   "cell_type": "markdown",
   "metadata": {},
   "source": [
    "# #3: Summing a Series"
   ]
  },
  {
   "cell_type": "code",
   "execution_count": 1,
   "metadata": {},
   "outputs": [
    {
     "name": "stdout",
     "output_type": "stream",
     "text": [
      "Enter the nth term: a+(n-1)*d\n",
      "Enter the number of terms: 3\n",
      "3⋅a + 3⋅d\n"
     ]
    }
   ],
   "source": [
    "from sympy import Symbol, sympify, summation, pprint\n",
    "\n",
    "\n",
    "def find_sum(n_term, num_terms):\n",
    "    \"\"\"\n",
    "    Finds the sum of an arbitrary series.\n",
    "    \n",
    "    :param n_term: nth term of the series\n",
    "    :param num_terms: number of terms in n_term\n",
    "    \"\"\"\n",
    "    n = Symbol('n')\n",
    "    s = summation(n_term, (n, 1, num_terms))\n",
    "    pprint(s)\n",
    "\n",
    "\n",
    "if __name__ == '__main__':\n",
    "    n_term = sympify(input('Enter the nth term: '))\n",
    "    num_terms = int(input('Enter the number of terms: '))\n",
    "    \n",
    "    find_sum(n_term, num_terms)"
   ]
  }
 ],
 "metadata": {
  "kernelspec": {
   "display_name": "Python 3",
   "language": "python",
   "name": "python3"
  },
  "language_info": {
   "codemirror_mode": {
    "name": "ipython",
    "version": 3
   },
   "file_extension": ".py",
   "mimetype": "text/x-python",
   "name": "python",
   "nbconvert_exporter": "python",
   "pygments_lexer": "ipython3",
   "version": "3.6.1"
  }
 },
 "nbformat": 4,
 "nbformat_minor": 2
}
