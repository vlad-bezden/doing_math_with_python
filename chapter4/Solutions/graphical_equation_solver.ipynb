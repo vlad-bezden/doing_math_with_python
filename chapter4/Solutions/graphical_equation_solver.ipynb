{
 "cells": [
  {
   "cell_type": "markdown",
   "metadata": {},
   "source": [
    "# #2: Graphical Equation Solver"
   ]
  },
  {
   "cell_type": "code",
   "execution_count": 20,
   "metadata": {},
   "outputs": [
    {
     "name": "stdout",
     "output_type": "stream",
     "text": [
      "Enter your first expression in terms of x and y: 2*x + 3*y + 5\n",
      "Enter your second expression in terms of x and y: 3*x + 2*y + 10\n",
      "                            \n",
      "Solution:\tx: [{x: -4, y: 1}]\n"
     ]
    },
    {
     "data": {
      "image/png": "[encoded data removed]",
      "text/plain": [
       "<matplotlib.figure.Figure at 0x12f02d0>"
      ]
     },
     "metadata": {},
     "output_type": "display_data"
    }
   ],
   "source": [
    "from sympy import Symbol, sympify, solve, SympifyError, pprint\n",
    "from sympy.plotting import plot\n",
    "\n",
    "\n",
    "def find_solutions(expr1, expr2):\n",
    "    \"\"\"\n",
    "    Finds solution for two expressions.\n",
    "    \n",
    "    :param expr1: first expression\n",
    "    :param expr2: second expression\n",
    "    :returns: None\n",
    "    \"\"\"    \n",
    "    solution = solve((expr1, expr2), dict=True)\n",
    "    if solution:\n",
    "        pprint(f'\\nSolution:\\tx: {solution}')\n",
    "    else:\n",
    "        print('No solution found')\n",
    "    \n",
    "    \n",
    "def plot_expressions(expr1, expr2):\n",
    "    \"\"\"\n",
    "    Draws plot for two expressions\n",
    "    \n",
    "    :param expr1: first expression\n",
    "    :param expr2: second expression\n",
    "    :returns: None\n",
    "    \"\"\"    \n",
    "    solutions_expr1 = solve(expr1, 'y')\n",
    "    solutions_expr2 = solve(expr2, 'y')\n",
    "    p = plot(solutions_expr1[0], solutions_expr2[0], legend=True, show=False)\n",
    "    p[0].line_color = 'b'\n",
    "    p[1].line_color = 'r'\n",
    "    p.show()\n",
    "    \n",
    "    \n",
    "def validate_expression(expr):\n",
    "    \"\"\"\n",
    "    Validates expression. Each expression should have\n",
    "    x and y variables\n",
    "    \n",
    "    :param expr: expression to be valiated\n",
    "    :returns: True\n",
    "    :raises ValueError\n",
    "    \"\"\"\n",
    "    y = Symbol('y')\n",
    "    x = Symbol('x')\n",
    "    expr_symbols = expr.atoms(Symbol)\n",
    "    \n",
    "    if len(expr_symbols) > 2:\n",
    "        raise ValueError(f'The equation \"{expr}\" must have only two variables - x and y')\n",
    "    elif x not in expr_symbols or y not in expr_symbols:\n",
    "        raise ValueError(f'Equation \"{expr}\" must have only x and y variables')\n",
    "    else:\n",
    "        return True\n",
    "        \n",
    "        \n",
    "if __name__ == '__main__':\n",
    "    \n",
    "    try:\n",
    "        expr1 = input('Enter your first expression in terms of x and y: ')\n",
    "        expr2 = input('Enter your second expression in terms of x and y: ')\n",
    "\n",
    "        expr1 = sympify(expr1)\n",
    "        expr2 = sympify(expr2)            \n",
    "\n",
    "        validate_expression(expr1)\n",
    "        validate_expression(expr2)\n",
    "    except SympifyError as ex:\n",
    "        print(f'Invalid input: {ex}')\n",
    "    else:\n",
    "        find_solutions(expr1, expr2)\n",
    "        plot_expressions(expr1, expr2)"
   ]
  }
 ],
 "metadata": {
  "kernelspec": {
   "display_name": "Python 3",
   "language": "python",
   "name": "python3"
  },
  "language_info": {
   "codemirror_mode": {
    "name": "ipython",
    "version": 3
   },
   "file_extension": ".py",
   "mimetype": "text/x-python",
   "name": "python",
   "nbconvert_exporter": "python",
   "pygments_lexer": "ipython3",
   "version": "3.6.1"
  }
 },
 "nbformat": 4,
 "nbformat_minor": 2
}
