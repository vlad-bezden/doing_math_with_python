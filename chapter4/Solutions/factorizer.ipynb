{
 "cells": [
  {
   "cell_type": "markdown",
   "metadata": {},
   "source": [
    "# #1: Factor Finder"
   ]
  },
  {
   "cell_type": "markdown",
   "metadata": {},
   "source": [
    "\n",
    "Factor an input expression"
   ]
  },
  {
   "cell_type": "code",
   "execution_count": null,
   "metadata": {},
   "outputs": [
    {
     "name": "stdout",
     "output_type": "stream",
     "text": [
      "Enter an expression to factorize: (x + 2)*(y - 2)\n",
      "(x + 2)*(y - 2)\n"
     ]
    }
   ],
   "source": [
    "from sympy import factor, sympify, SympifyError\n",
    "\n",
    "def factorize(expr):\n",
    "    return factor(expr)\n",
    "\n",
    "\n",
    "if __name__ == '__main__':\n",
    "    while True:\n",
    "        try:\n",
    "            expr = input('Enter an expression to factorize: ')\n",
    "            expr_obj = sympify(expr)\n",
    "            print(factorize(expr_obj))\n",
    "        except SympifyError:\n",
    "            print('Invalid expression entered as input')\n"
   ]
  }
 ],
 "metadata": {
  "kernelspec": {
   "display_name": "Python 3",
   "language": "python",
   "name": "python3"
  },
  "language_info": {
   "codemirror_mode": {
    "name": "ipython",
    "version": 3
   },
   "file_extension": ".py",
   "mimetype": "text/x-python",
   "name": "python",
   "nbconvert_exporter": "python",
   "pygments_lexer": "ipython3",
   "version": "3.6.1"
  }
 },
 "nbformat": 4,
 "nbformat_minor": 2
}
