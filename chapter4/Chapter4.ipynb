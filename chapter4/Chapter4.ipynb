{
 "cells": [
  {
   "cell_type": "markdown",
   "metadata": {},
   "source": [
    "# Snippets and Programs from Chapter 4: Algebra and Symbolic Math with SymPy"
   ]
  },
  {
   "cell_type": "code",
   "execution_count": 1,
   "metadata": {
    "collapsed": true
   },
   "outputs": [],
   "source": [
    "%matplotlib inline"
   ]
  },
  {
   "cell_type": "code",
   "execution_count": 2,
   "metadata": {},
   "outputs": [
    {
     "name": "stdout",
     "output_type": "stream",
     "text": [
      "Enter the number of terms you want in the series: 5\n",
      "     2    3    4    5\n",
      "    x    x    x    x \n",
      "x + ── + ── + ── + ──\n",
      "    2    3    4    5 \n"
     ]
    }
   ],
   "source": [
    "# Page 99: Printing a Series:\n",
    "\n",
    "'''\n",
    "Print the series:\n",
    "    x**2   x**3   x**n\n",
    "x + ---- + ---- + ----\n",
    "      2      3      n\n",
    "'''\n",
    "\n",
    "from sympy import Symbol, pprint, init_printing\n",
    "\n",
    "def print_series(n):\n",
    "\n",
    "    # Initial printing system with reverse order\n",
    "    init_printing(order='rev-lex')\n",
    "    x = Symbol('x')\n",
    "    series = x\n",
    "    for i in range(2, n+1):\n",
    "        series = series + (x**i)/i\n",
    "    pprint(series)\n",
    "\n",
    "    \n",
    "if __name__ == '__main__':\n",
    "    n = input('Enter the number of terms you want in the series: ')\n",
    "    print_series(int(n))"
   ]
  },
  {
   "cell_type": "code",
   "execution_count": 3,
   "metadata": {},
   "outputs": [
    {
     "name": "stdout",
     "output_type": "stream",
     "text": [
      "9\n"
     ]
    },
    {
     "data": {
      "image/png": "[encoded data removed]",
      "text/latex": [
       "$$\\left(1 - y\\right)^{2} + 2 y \\left(1 - y\\right) + y^{2}$$"
      ],
      "text/plain": [
       "       2                  2\n",
       "(1 - y)  + 2⋅y⋅(1 - y) + y "
      ]
     },
     "execution_count": 3,
     "metadata": {},
     "output_type": "execute_result"
    }
   ],
   "source": [
    "# Page 100: Substituting in Values\n",
    "\n",
    "from sympy import Symbol\n",
    "x = Symbol('x')\n",
    "y = Symbol('y')\n",
    "expr = x**2 + 2*x*y + y**2\n",
    "res = expr.subs({x:1, y:2})\n",
    "print(res)\n",
    "expr.subs({x:1-y})"
   ]
  },
  {
   "cell_type": "code",
   "execution_count": 4,
   "metadata": {},
   "outputs": [
    {
     "name": "stdout",
     "output_type": "stream",
     "text": [
      "Enter the number of terms you want in the series: 5\n",
      "Enter the value of x at which you want to evaluate the series: 5\n",
      "     2    3    4    5\n",
      "    x    x    x    x \n",
      "x + ── + ── + ── + ──\n",
      "    2    3    4    5 \n",
      "Value of the series at 5.0: 840.42\n"
     ]
    }
   ],
   "source": [
    "# Page 102: Print a series and also calculate its value at a certain point\n",
    "\n",
    "'''\n",
    "Print the series:\n",
    "\n",
    "x + x**2 + x**3 + ... + x**n\n",
    "    ____  _____         ____    \n",
    "      2     3             n\n",
    "      \n",
    "and calculate its value at a certain value of x.\n",
    "'''\n",
    "\n",
    "from sympy import Symbol, pprint, init_printing\n",
    "\n",
    "def print_series(n, x_value):\n",
    "    \n",
    "    #Initialize printing system with reverse order\n",
    "    init_printing(order='rev-lex')\n",
    "    \n",
    "    x = Symbol('x')\n",
    "    series = x\n",
    "    for i in range(2, n+1):\n",
    "        series += (x**i)/i\n",
    "        \n",
    "    pprint(series)\n",
    "    \n",
    "    # Evaluate the series at x_values\n",
    "    series_values = series.subs({x:x_value})\n",
    "    print(f'Value of the series at {x_value}: {series_values:.2f}')\n",
    "    \n",
    "    \n",
    "if __name__ == '__main__':\n",
    "    n = input('Enter the number of terms you want in the series: ')\n",
    "    x_value = input('Enter the value of x at which you want to evaluate the series: ')\n",
    "    \n",
    "    print_series(int(n), float(x_value))"
   ]
  },
  {
   "cell_type": "code",
   "execution_count": 5,
   "metadata": {},
   "outputs": [
    {
     "name": "stdout",
     "output_type": "stream",
     "text": [
      "Enter the first expression: 2*x + 3\n",
      "Enter the second expression: 3*x + 10\n",
      "               2\n",
      "30 + 29⋅x + 6⋅x \n"
     ]
    }
   ],
   "source": [
    "# Page 104: Expression multiplier\n",
    "\n",
    "'''\n",
    "Product of two expressions\n",
    "'''\n",
    "\n",
    "from sympy import expand, sympify, pprint\n",
    "from sympy.core.sympify import SympifyError\n",
    "\n",
    "def product(expr1, expr2):\n",
    "    prod = expand(expr1*expr2)\n",
    "    pprint(prod)\n",
    "    \n",
    "if __name__=='__main__':\n",
    "    expr1 = input('Enter the first expression: ')\n",
    "    expr2 = input('Enter the second expression: ')\n",
    "    try:\n",
    "        expr1 = sympify(expr1)\n",
    "        expr2 = sympify(expr2)\n",
    "    except SympifyError:\n",
    "        print('Invalid input')\n",
    "    else:\n",
    "        product(expr1, expr2)"
   ]
  },
  {
   "cell_type": "code",
   "execution_count": 6,
   "metadata": {},
   "outputs": [
    {
     "data": {
      "image/png": "[encoded data removed]",
      "text/latex": [
       "$$\\left [ 12\\right ]$$"
      ],
      "text/plain": [
       "[12]"
      ]
     },
     "execution_count": 6,
     "metadata": {},
     "output_type": "execute_result"
    }
   ],
   "source": [
    "# Page 105: Solving a linear equation\n",
    "\n",
    "from sympy import Symbol, solve \n",
    "\n",
    "x = Symbol('x')\n",
    "expr = x - 5 - 7\n",
    "solve(expr)"
   ]
  },
  {
   "cell_type": "code",
   "execution_count": 7,
   "metadata": {},
   "outputs": [
    {
     "data": {
      "image/png": "[encoded data removed]",
      "text/latex": [
       "$$\\left [ \\left \\{ x : -4\\right \\}, \\quad \\left \\{ x : -1\\right \\}\\right ]$$"
      ],
      "text/plain": [
       "[{x: -4}, {x: -1}]"
      ]
     },
     "execution_count": 7,
     "metadata": {},
     "output_type": "execute_result"
    }
   ],
   "source": [
    "# Page 106: Solving Quadratic Equations\n",
    "\n",
    "from sympy import Symbol, solve\n",
    "\n",
    "x = Symbol('x')\n",
    "expr = x**2 + 5*x + 4\n",
    "solve(expr, dict=True)"
   ]
  },
  {
   "cell_type": "code",
   "execution_count": 8,
   "metadata": {},
   "outputs": [
    {
     "data": {
      "image/png": "[encoded data removed]",
      "text/latex": [
       "$$\\left [ \\left \\{ x : - \\frac{\\sqrt{3} i}{2} - \\frac{1}{2}\\right \\}, \\quad \\left \\{ x : \\frac{\\sqrt{3} i}{2} - \\frac{1}{2}\\right \\}\\right ]$$"
      ],
      "text/plain": [
       "⎡⎧     √3⋅ⅈ   1⎫  ⎧   √3⋅ⅈ   1⎫⎤\n",
       "⎢⎨x: - ──── - ─⎬, ⎨x: ──── - ─⎬⎥\n",
       "⎣⎩      2     2⎭  ⎩    2     2⎭⎦"
      ]
     },
     "execution_count": 8,
     "metadata": {},
     "output_type": "execute_result"
    }
   ],
   "source": [
    "# Page 106: Quadratic equation with imaginary roots\n",
    "\n",
    "from sympy import Symbol, solve\n",
    "\n",
    "x = Symbol('x')\n",
    "expr = x**2 + x + 1\n",
    "solve(expr, dict=True)"
   ]
  },
  {
   "cell_type": "code",
   "execution_count": 9,
   "metadata": {},
   "outputs": [
    {
     "data": {
      "image/png": "[encoded data removed]",
      "text/latex": [
       "$$\\left [ \\left \\{ x : \\frac{1}{2 a} \\left(\\sqrt{b^{2} - 4 a c} - b\\right)\\right \\}, \\quad \\left \\{ x : - \\frac{1}{2 a} \\left(\\sqrt{b^{2} - 4 a c} + b\\right)\\right \\}\\right ]$$"
      ],
      "text/plain": [
       "⎡⎧      ____________    ⎫  ⎧    ⎛   ____________    ⎞ ⎫⎤\n",
       "⎢⎪     ╱  2             ⎪  ⎪    ⎜  ╱  2             ⎟ ⎪⎥\n",
       "⎢⎨   ╲╱  b  - 4⋅a⋅c  - b⎬  ⎨   -⎝╲╱  b  - 4⋅a⋅c  + b⎠ ⎬⎥\n",
       "⎢⎪x: ───────────────────⎪, ⎪x: ───────────────────────⎪⎥\n",
       "⎣⎩           2⋅a        ⎭  ⎩             2⋅a          ⎭⎦"
      ]
     },
     "execution_count": 9,
     "metadata": {},
     "output_type": "execute_result"
    }
   ],
   "source": [
    "# Page 106-107: Solving for one variance in terms of others\n",
    "\n",
    "from sympy import Symbol, solve\n",
    "\n",
    "x = Symbol('x')\n",
    "a = Symbol('a')\n",
    "b = Symbol('b')\n",
    "c = Symbol('c')\n",
    "expr = a*x*x + b*x + c\n",
    "solve(expr, x, dict=True)"
   ]
  },
  {
   "cell_type": "code",
   "execution_count": 10,
   "metadata": {},
   "outputs": [
    {
     "data": {
      "image/png": "[encoded data removed]",
      "text/latex": [
       "$$\\left [ \\left \\{ t : \\frac{1}{a} \\left(\\sqrt{u^{2} + 2.0 a s} - u\\right)\\right \\}, \\quad \\left \\{ t : - \\frac{1}{a} \\left(\\sqrt{u^{2} + 2.0 a s} + u\\right)\\right \\}\\right ]$$"
      ],
      "text/plain": [
       "⎡⎧      ______________    ⎫  ⎧    ⎛   ______________    ⎞ ⎫⎤\n",
       "⎢⎪     ╱  2               ⎪  ⎪    ⎜  ╱  2               ⎟ ⎪⎥\n",
       "⎢⎨   ╲╱  u  + 2.0⋅a⋅s  - u⎬  ⎨   -⎝╲╱  u  + 2.0⋅a⋅s  + u⎠ ⎬⎥\n",
       "⎢⎪t: ─────────────────────⎪, ⎪t: ─────────────────────────⎪⎥\n",
       "⎣⎩             a          ⎭  ⎩               a            ⎭⎦"
      ]
     },
     "execution_count": 10,
     "metadata": {},
     "output_type": "execute_result"
    }
   ],
   "source": [
    "# Page 107: Express s in terms of u, a, t\n",
    "\n",
    "from sympy import Symbol, solve\n",
    "\n",
    "s = Symbol('s')\n",
    "u = Symbol('u')\n",
    "t = Symbol('t')\n",
    "a = Symbol('a')\n",
    "expr = u*t + (1/2)*a*t**2 - s\n",
    "t_expr = solve(expr, t, dict=True)\n",
    "t_expr"
   ]
  },
  {
   "cell_type": "code",
   "execution_count": 11,
   "metadata": {},
   "outputs": [
    {
     "name": "stdout",
     "output_type": "stream",
     "text": [
      "solution that satisfies both equations: [{x: 24/5, y: -6/5}]\n",
      "First expression result: 0\n",
      "Second expression result: 0\n"
     ]
    }
   ],
   "source": [
    "# Page 108: Solve a system of Linear equations\n",
    "\n",
    "from sympy import Symbol, solve, pprint\n",
    "\n",
    "x = Symbol('x')\n",
    "y = Symbol('y')\n",
    "expr1 = 2*x + 3*y - 6\n",
    "expr2 = 3*x + 2*y - 12\n",
    "soln = solve((expr1, expr2), dict=True)\n",
    "pprint(f'solution that satisfies both equations: {soln}')\n",
    "\n",
    "# verify whether the solution we got really satisfies the equations\n",
    "soln = soln[0]\n",
    "pprint('First expression result: {0}'.format(expr1.subs({x:soln[x], y:soln[y]})))\n",
    "pprint('Second expression result: {0}'.format(expr2.subs({x:soln[x], y:soln[y]})))"
   ]
  },
  {
   "cell_type": "code",
   "execution_count": 12,
   "metadata": {},
   "outputs": [
    {
     "data": {
      "image/png": "[encoded data removed]",
      "text/plain": [
       "<matplotlib.figure.Figure at 0x985ee90>"
      ]
     },
     "metadata": {},
     "output_type": "display_data"
    },
    {
     "data": {
      "text/plain": [
       "<sympy.plotting.plot.Plot at 0x985e090>"
      ]
     },
     "execution_count": 12,
     "metadata": {},
     "output_type": "execute_result"
    }
   ],
   "source": [
    "# Page 109: Simple plot with SymPy\n",
    "\n",
    "from sympy.plotting import plot\n",
    "from sympy import Symbol\n",
    "\n",
    "x = Symbol('x')\n",
    "plot(2*x+3)"
   ]
  },
  {
   "cell_type": "code",
   "execution_count": 13,
   "metadata": {},
   "outputs": [
    {
     "data": {
      "image/png": "[encoded data removed]",
      "text/plain": [
       "<matplotlib.figure.Figure at 0x98d3470>"
      ]
     },
     "metadata": {},
     "output_type": "display_data"
    },
    {
     "data": {
      "text/plain": [
       "<sympy.plotting.plot.Plot at 0x9890270>"
      ]
     },
     "execution_count": 13,
     "metadata": {},
     "output_type": "execute_result"
    }
   ],
   "source": [
    "# Page 110: Plot in SymPy with range of x as well as other attributes specified\n",
    "\n",
    "from sympy import Symbol, plot\n",
    "\n",
    "x = Symbol('x')\n",
    "plot(2*x+3, (x, -2, 2), title='A Line', xlabel='x', ylabel='2x+3')"
   ]
  },
  {
   "cell_type": "code",
   "execution_count": 14,
   "metadata": {
    "scrolled": true
   },
   "outputs": [
    {
     "name": "stdout",
     "output_type": "stream",
     "text": [
      "Enter your expression in terms of x and y: 2*x + y + 10\n"
     ]
    },
    {
     "data": {
      "image/png": "[encoded data removed]",
      "text/plain": [
       "<matplotlib.figure.Figure at 0x98ad7d0>"
      ]
     },
     "metadata": {},
     "output_type": "display_data"
    }
   ],
   "source": [
    "# Page 112: Plot the graph of an input expression\n",
    "\n",
    "'''\n",
    "Plot the graph of an input expression\n",
    "'''\n",
    "\n",
    "from sympy import Symbol, sympify, solve\n",
    "from sympy.plotting import plot\n",
    "\n",
    "\n",
    "def plot_expression(expr):\n",
    "    \n",
    "    y = Symbol('y')\n",
    "    solutions = solve(expr, y)\n",
    "    expr_y = solutions[0]\n",
    "    plot(expr_y)\n",
    "    \n",
    "\n",
    "if __name__ == '__main__':\n",
    "    \n",
    "    expr = input('Enter your expression in terms of x and y: ')\n",
    "    try:\n",
    "        expr = sympify(expr)\n",
    "    except SympifyError:\n",
    "        print('Invalid input')\n",
    "    else:\n",
    "        plot_expression(expr)"
   ]
  },
  {
   "cell_type": "code",
   "execution_count": 15,
   "metadata": {},
   "outputs": [
    {
     "data": {
      "image/png": "[encoded data removed]",
      "text/plain": [
       "<matplotlib.figure.Figure at 0x99fde30>"
      ]
     },
     "metadata": {},
     "output_type": "display_data"
    },
    {
     "data": {
      "text/plain": [
       "<sympy.plotting.plot.Plot at 0x99fd3b0>"
      ]
     },
     "execution_count": 15,
     "metadata": {},
     "output_type": "execute_result"
    }
   ],
   "source": [
    "# Page 113: Plotting multiple functions\n",
    "\n",
    "from sympy.plotting import plot\n",
    "from sympy import Symbol\n",
    "\n",
    "x = Symbol('x')\n",
    "plot(2*x+3, 3*x+1)"
   ]
  },
  {
   "cell_type": "code",
   "execution_count": 16,
   "metadata": {},
   "outputs": [
    {
     "data": {
      "image/png": "[encoded data removed]",
      "text/plain": [
       "<matplotlib.figure.Figure at 0x9a28a50>"
      ]
     },
     "metadata": {},
     "output_type": "display_data"
    }
   ],
   "source": [
    "# Page 114: Plot of the two lines drawn in a different color\n",
    "\n",
    "from sympy.plotting import plot\n",
    "from sympy import Symbol\n",
    "\n",
    "x = Symbol('x')\n",
    "p = plot(2*x+3, 3*x+1, legend=True, show=False)\n",
    "p[0].line_color = 'b'\n",
    "p[1].line_color = 'r'\n",
    "p.show()"
   ]
  },
  {
   "cell_type": "code",
   "execution_count": 17,
   "metadata": {},
   "outputs": [
    {
     "data": {
      "image/png": "[encoded data removed]",
      "text/latex": [
       "$$3.512064$$"
      ],
      "text/plain": [
       "3.51206400000000"
      ]
     },
     "execution_count": 17,
     "metadata": {},
     "output_type": "execute_result"
    }
   ],
   "source": [
    "# Page 116: Example of summing a series\n",
    "\n",
    "from sympy import Symbol, summation, pprint\n",
    "\n",
    "\n",
    "n = Symbol('x')\n",
    "n = Symbol('n')\n",
    "s = summation(x**n/n, (n, 1, 5))\n",
    "s.subs({x:1.2})"
   ]
  },
  {
   "cell_type": "code",
   "execution_count": 18,
   "metadata": {},
   "outputs": [
    {
     "data": {
      "image/png": "[encoded data removed]",
      "text/latex": [
       "$$\\left [ \\left(-\\infty, -2\\right), \\quad \\left(2, \\infty\\right)\\right ]$$"
      ],
      "text/plain": [
       "[(-∞, -2), (2, ∞)]"
      ]
     },
     "execution_count": 18,
     "metadata": {},
     "output_type": "execute_result"
    }
   ],
   "source": [
    "# Page 117: Example of solving a polynomial inequality\n",
    "\n",
    "from sympy import Poly, Symbol, solve_poly_inequality\n",
    "\n",
    "\n",
    "x = Symbol('x')\n",
    "ineq_obj = -x**2 + 4 < 0\n",
    "lhs = ineq_obj.lhs\n",
    "p = Poly(lhs, x)\n",
    "rel = ineq_obj.rel_op\n",
    "solve_poly_inequality(p, rel)"
   ]
  },
  {
   "cell_type": "code",
   "execution_count": 19,
   "metadata": {},
   "outputs": [
    {
     "data": {
      "image/png": "[encoded data removed]",
      "text/latex": [
       "$$\\left(-\\infty, -2\\right) \\cup \\left(1, \\infty\\right)$$"
      ],
      "text/plain": [
       "(-∞, -2) ∪ (1, ∞)"
      ]
     },
     "execution_count": 19,
     "metadata": {},
     "output_type": "execute_result"
    }
   ],
   "source": [
    "# Page 118: Example of solving a rational inequality\n",
    "\n",
    "from sympy import Symbol, Poly, solve_rational_inequalities\n",
    "\n",
    "\n",
    "x = Symbol('x')\n",
    "ineq_obj = ((x-1)/(x+2)) > 0\n",
    "lhs = ineq_obj.lhs\n",
    "numer, denom = lhs.as_numer_denom()\n",
    "p1 = Poly(numer)\n",
    "p2 = Poly(denom)\n",
    "rel = ineq_obj.rel_op\n",
    "solve_rational_inequalities([[((p1, p2), rel)]])"
   ]
  },
  {
   "cell_type": "code",
   "execution_count": 20,
   "metadata": {},
   "outputs": [
    {
     "data": {
      "image/png": "[encoded data removed]",
      "text/latex": [
       "$$\\left(0.643501108793284, 2.49809154479651\\right)$$"
      ],
      "text/plain": [
       "(0.643501108793284, 2.49809154479651)"
      ]
     },
     "execution_count": 20,
     "metadata": {},
     "output_type": "execute_result"
    }
   ],
   "source": [
    "# Page 118: Solve a non-polynomial inequality\n",
    "\n",
    "from sympy import Symbol, solve, solve_univariate_inequality, sin\n",
    "\n",
    "\n",
    "x = Symbol('x')\n",
    "ineq_obj = sin(x) - 0.6 > 0\n",
    "solve_univariate_inequality(ineq_obj, x, relational=False)"
   ]
  }
 ],
 "metadata": {
  "kernelspec": {
   "display_name": "Python 3",
   "language": "python",
   "name": "python3"
  },
  "language_info": {
   "codemirror_mode": {
    "name": "ipython",
    "version": 3
   },
   "file_extension": ".py",
   "mimetype": "text/x-python",
   "name": "python",
   "nbconvert_exporter": "python",
   "pygments_lexer": "ipython3",
   "version": "3.6.1"
  }
 },
 "nbformat": 4,
 "nbformat_minor": 2
}
